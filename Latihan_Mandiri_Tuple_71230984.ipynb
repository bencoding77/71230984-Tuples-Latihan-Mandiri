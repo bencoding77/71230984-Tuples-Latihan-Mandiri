{
  "nbformat": 4,
  "nbformat_minor": 0,
  "metadata": {
    "colab": {
      "provenance": []
    },
    "kernelspec": {
      "name": "python3",
      "display_name": "Python 3"
    },
    "language_info": {
      "name": "python"
    }
  },
  "cells": [
    {
      "cell_type": "markdown",
      "source": [
        "Soal 1"
      ],
      "metadata": {
        "id": "SKkUXjJ7FucK"
      }
    },
    {
      "cell_type": "code",
      "source": [
        "def check(t):\n",
        "    pertama = t[0]\n",
        "    for isi in t:\n",
        "        if isi != pertama:\n",
        "            return False\n",
        "    return True\n",
        "\n",
        "t = tuple((input(\"Silahkan masukkan angka yang diinginkan: \").split()))\n",
        "t = tuple(int(x) for x in t)\n",
        "print(check(t))"
      ],
      "metadata": {
        "colab": {
          "base_uri": "https://localhost:8080/"
        },
        "id": "fSWs8cj_Fo2q",
        "outputId": "fd4145bf-403e-41b0-e9e5-e623a1d439aa"
      },
      "execution_count": 3,
      "outputs": [
        {
          "output_type": "stream",
          "name": "stdout",
          "text": [
            "Silahkan masukkan angka yang diinginkan: 80 90 80 80 90\n",
            "False\n"
          ]
        }
      ]
    },
    {
      "cell_type": "markdown",
      "source": [
        "Soal 2"
      ],
      "metadata": {
        "id": "TqVeGkLtC8QP"
      }
    },
    {
      "cell_type": "code",
      "execution_count": 2,
      "metadata": {
        "colab": {
          "base_uri": "https://localhost:8080/"
        },
        "id": "5iQBtShAC27a",
        "outputId": "ea29c684-a9f2-45a1-d28f-74928255a426"
      },
      "outputs": [
        {
          "output_type": "stream",
          "name": "stdout",
          "text": [
            "Masukkan jumlah data yang diinginkan: 2\n",
            "Masukkan nama: Benyamin Ramayana\n",
            "Masukkan NIM: 71230984\n",
            "Masukkan alamat: Condong Catur\n",
            "Masukkan nama: Joshua Kim\n",
            "Masukkan NIM: 71230997\n",
            "Masukkan alamat: Gejayan\n",
            "Data ke-1\n",
            "NIM    : 71230984\n",
            "Nama   : Benyamin Ramayana\n",
            "Alamat : Condong Catur\n",
            "NIM: ('7', '1', '2', '3', '0', '9', '8', '4')\n",
            "Nama Depan: ('e', 'n', 'y', 'a', 'm', 'i', 'n')\n",
            "Nama Terbalik: ('Ramayana', 'Benyamin')\n",
            "Data ke-2\n",
            "NIM    : 71230997\n",
            "Nama   : Joshua Kim\n",
            "Alamat : Gejayan\n",
            "NIM: ('7', '1', '2', '3', '0', '9', '9', '7')\n",
            "Nama Depan: ('o', 's', 'h', 'u', 'a')\n",
            "Nama Terbalik: ('Kim', 'Joshua')\n"
          ]
        }
      ],
      "source": [
        "user_data = int(input(\"Masukkan jumlah data yang diinginkan: \"))\n",
        "data = []\n",
        "\n",
        "for i in range(user_data):\n",
        "    nama = input(\"Masukkan nama: \")\n",
        "    nim = input(\"Masukkan NIM: \")\n",
        "    alamat = input(\"Masukkan alamat: \")\n",
        "    data.append((nama, nim, alamat))\n",
        "\n",
        "for i in range(user_data):\n",
        "    print(f\"Data ke-{i + 1}\")\n",
        "    print(f\"NIM    : {data[i][1]}\")\n",
        "    print(f\"Nama   : {data[i][0]}\")\n",
        "    print(f\"Alamat : {data[i][2]}\")\n",
        "\n",
        "    nama, nim, alamat = data[i]\n",
        "    nim_baru = tuple(nim)\n",
        "    nama_pisah = nama.split()\n",
        "    nama_depan = tuple(nama_pisah[0][1:])\n",
        "    nama_terbalik = tuple(nama_pisah[::-1])\n",
        "\n",
        "    print(f\"NIM: {nim_baru}\")\n",
        "    print(f\"Nama Depan: {nama_depan}\")\n",
        "    print(f\"Nama Terbalik: {nama_terbalik}\")"
      ]
    },
    {
      "cell_type": "markdown",
      "source": [
        "Soal 3"
      ],
      "metadata": {
        "id": "SVrFEh4-FxC2"
      }
    },
    {
      "cell_type": "code",
      "source": [
        "dic_time = dict()\n",
        "lst = list()\n",
        "fname = input('Nama File: ')\n",
        "try:\n",
        "    fhand = open(fname)\n",
        "except:\n",
        "    print('File tidak ditemukan')\n",
        "    quit()\n",
        "\n",
        "for line in fhand:\n",
        "    if line.startswith('From '):\n",
        "        words = line.split()\n",
        "        time = words[5]\n",
        "        hour = time.split(':')[0]\n",
        "        if hour not in dic_time:\n",
        "            dic_time[hour] = 1\n",
        "        else:\n",
        "            dic_time[hour] += 1\n",
        "\n",
        "for key, value in dic_time.items():\n",
        "    lst.append((key, value))\n",
        "\n",
        "lst.sort()\n",
        "\n",
        "for key, value in lst:\n",
        "    print(key, value)"
      ],
      "metadata": {
        "id": "KHpbgb8IFyqb"
      },
      "execution_count": null,
      "outputs": []
    }
  ]
}